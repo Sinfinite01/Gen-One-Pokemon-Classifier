{
 "cells": [
  {
   "cell_type": "code",
   "execution_count": 1,
   "metadata": {},
   "outputs": [
    {
     "name": "stderr",
     "output_type": "stream",
     "text": [
      "\n",
      "[notice] A new release of pip is available: 23.3.2 -> 24.0\n",
      "[notice] To update, run: python.exe -m pip install --upgrade pip\n",
      "\n",
      "[notice] A new release of pip is available: 23.3.2 -> 24.0\n",
      "[notice] To update, run: python.exe -m pip install --upgrade pip\n",
      "\n",
      "[notice] A new release of pip is available: 23.3.2 -> 24.0\n",
      "[notice] To update, run: python.exe -m pip install --upgrade pip\n"
     ]
    }
   ],
   "source": [
    "! pip install torch --quiet\n",
    "! pip install pandas --quiet\n",
    "! pip install torchvision --quiet"
   ]
  },
  {
   "cell_type": "code",
   "execution_count": 2,
   "metadata": {},
   "outputs": [],
   "source": [
    "# torch imports\n",
    "import torch\n",
    "import torch.nn as nn\n",
    "import torch.nn.functional as F\n",
    "from torchvision import transforms\n",
    "from torch.utils.data import Dataset, DataLoader, random_split\n",
    "\n",
    "\n",
    "# other imports\n",
    "import pandas as pd\n",
    "import os\n",
    "import time\n",
    "import pandas as pd\n",
    "import matplotlib.pyplot as plt\n",
    "import random"
   ]
  },
  {
   "cell_type": "code",
   "execution_count": 3,
   "metadata": {},
   "outputs": [
    {
     "name": "stdout",
     "output_type": "stream",
     "text": [
      "Elapsed Time to read the file: 0 minutes 2.62 seconds\n"
     ]
    }
   ],
   "source": [
    "start_time = time.time()\n",
    "\n",
    "# Using the inbuilt pandas function to read a dataframe from a pkl file\n",
    "pokemon_df = pd.read_pickle(os.path.join('Data', 'pkl_data', 'pokemon100_2.pkl'))\n",
    "\n",
    "end_time = time.time()\n",
    "\n",
    "# Calculate the elapsed time\n",
    "elapsed_time_seconds = end_time - start_time\n",
    "\n",
    "elapsed_minutes = int(elapsed_time_seconds // 60)\n",
    "elapsed_seconds = elapsed_time_seconds % 60\n",
    "\n",
    "print(\"Elapsed Time to read the file:\", elapsed_minutes, \"minutes\", \"{:.2f}\".format(elapsed_seconds), \"seconds\")\n",
    "\n",
    "\n",
    "start_time = time.time()"
   ]
  },
  {
   "cell_type": "code",
   "execution_count": 5,
   "metadata": {},
   "outputs": [],
   "source": [
    "pokemon_num = 10"
   ]
  },
  {
   "cell_type": "code",
   "execution_count": 6,
   "metadata": {},
   "outputs": [],
   "source": [
    "class Net(nn.Module):\n",
    "    def __init__(self):\n",
    "        super().__init__()\n",
    "\n",
    "        # Define convolutional layers\n",
    "        self.conv1 = nn.Conv2d(in_channels=3, out_channels=32, kernel_size=5, stride=1, padding=2)\n",
    "        self.conv2 = nn.Conv2d(in_channels=32, out_channels=64, kernel_size=5, stride=1, padding=2)\n",
    "        self.conv3 = nn.Conv2d(in_channels=64, out_channels=128, kernel_size=5, stride=1, padding=2)\n",
    "        self.conv4 = nn.Conv2d(in_channels=128, out_channels=256, kernel_size=5, stride=1, padding=2)\n",
    "        self.conv5 = nn.Conv2d(in_channels=256, out_channels=512, kernel_size=5, stride=1, padding=2)\n",
    "        \n",
    "        # Define batch normalization layers\n",
    "        self.bn1 = nn.BatchNorm2d(32)\n",
    "        self.bn2 = nn.BatchNorm2d(64)\n",
    "        self.bn3 = nn.BatchNorm2d(128)\n",
    "        self.bn4 = nn.BatchNorm2d(256)\n",
    "                \n",
    "        # Define max pooling layer\n",
    "        self.pool = nn.MaxPool2d(kernel_size=2, stride=2)\n",
    "        \n",
    "        # Define fully connected layers\n",
    "        self.fc1 = nn.Linear(256 * 6 * 6, 512)\n",
    "        self.fc2 = nn.Linear(512, 256)\n",
    "        self.fc3 = nn.Linear(256, pokemon_num)\n",
    "        \n",
    "        # Define dropout layer\n",
    "        self.dropout = nn.Dropout(p=0.5)\n",
    "\n",
    "    def forward(self, x):\n",
    "    # Forward pass through the network\n",
    "    \n",
    "        # Convolutional layers with batch normalization, ReLU activation, and max pooling\n",
    "        x = self.pool(F.relu(self.bn1(self.conv1(x))))\n",
    "        x = self.pool(F.relu(self.bn2(self.conv2(x))))\n",
    "        x = self.pool(F.relu(self.bn3(self.conv3(x))))\n",
    "        x = self.pool(F.relu(self.bn4(self.conv4(x))))\n",
    "        \n",
    "        # Flatten the tensor for the fully connected layers\n",
    "        x = x.view(-1, 256 * 6 * 6)\n",
    "        \n",
    "        # Fully connected layers with ReLU activation and dropout\n",
    "        x = F.relu(self.fc1(x))\n",
    "        x = self.dropout(x)\n",
    "        x = F.relu(self.fc2(x))\n",
    "        x = self.fc3(x)\n",
    "\n",
    "        return x\n",
    "\n",
    "device = torch.device(\"cuda\") if torch.cuda.is_available() else torch.device(\"mps\") if torch.backends.mps.is_available() else torch.device(\"cpu\")\n",
    "net = Net().to(device)"
   ]
  },
  {
   "cell_type": "code",
   "execution_count": 7,
   "metadata": {},
   "outputs": [
    {
     "data": {
      "text/plain": [
       "<All keys matched successfully>"
      ]
     },
     "execution_count": 7,
     "metadata": {},
     "output_type": "execute_result"
    }
   ],
   "source": [
    "# Load the model\n",
    "model = Net()  # Initialize your model\n",
    "model.load_state_dict(torch.load(os.path.join('Models', 'starters_100percent_1.pth')))"
   ]
  },
  {
   "cell_type": "code",
   "execution_count": 10,
   "metadata": {},
   "outputs": [
    {
     "name": "stdout",
     "output_type": "stream",
     "text": [
      "Actual label: pokemon_Articuno\n",
      "Predicted index: 5\n",
      "Predicted label: pokemon_Articuno\n"
     ]
    }
   ],
   "source": [
    "pokemon_labels = ['pokemon_Charmander', 'pokemon_Squirtle', 'pokemon_Bulbasaur', 'pokemon_Pikachu']\n",
    "\n",
    "rand_label = random.choice(pokemon_labels)\n",
    "\n",
    "# Get a random sample from the 'tensor' column from a random pokemon\n",
    "random_row = pokemon_df[pokemon_df[rand_label]].sample(n=1)\n",
    "random_pokemon_sample = random_row['tensor']\n",
    "to_pil = transforms.ToPILImage()\n",
    "random_image = to_pil(random_pokemon_sample.item())\n",
    "random_image.show()\n",
    "\n",
    "# Test it with our cnn\n",
    "model.eval()\n",
    "output = model(random_pokemon_sample.item().unsqueeze(0))\n",
    "\n",
    "# Print actual label\n",
    "print('Actual label:', rand_label)\n",
    "\n",
    "# print predicted index\n",
    "print('Predicted index:', torch.argmax(output).item())\n",
    "pred_label = pokemon_labels[torch.argmax(output).item()]\n",
    "print('Predicted label:', pred_label)"
   ]
  },
  {
   "cell_type": "code",
   "execution_count": null,
   "metadata": {},
   "outputs": [],
   "source": []
  }
 ],
 "metadata": {
  "kernelspec": {
   "display_name": "Python 3",
   "language": "python",
   "name": "python3"
  },
  "language_info": {
   "codemirror_mode": {
    "name": "ipython",
    "version": 3
   },
   "file_extension": ".py",
   "mimetype": "text/x-python",
   "name": "python",
   "nbconvert_exporter": "python",
   "pygments_lexer": "ipython3",
   "version": "3.11.7"
  }
 },
 "nbformat": 4,
 "nbformat_minor": 2
}
