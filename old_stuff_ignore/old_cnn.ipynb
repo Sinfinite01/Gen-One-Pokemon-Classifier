{
 "cells": [
  {
   "cell_type": "code",
   "execution_count": 2,
   "metadata": {},
   "outputs": [],
   "source": [
    "! pip install torch --quiet\n",
    "! pip install pandas --quiet\n",
    "! pip install torchvision --quiet"
   ]
  },
  {
   "cell_type": "code",
   "execution_count": 3,
   "metadata": {},
   "outputs": [],
   "source": [
    "import torch\n",
    "import torch.nn as nn\n",
    "import torch.nn.functional as F\n",
    "import pandas as pd\n",
    "import os\n",
    "from torchvision import transforms\n",
    "import time\n",
    "import pandas as pd\n",
    "from sklearn.model_selection import train_test_split\n",
    "from torch.utils.data import Dataset, DataLoader, random_split"
   ]
  },
  {
   "cell_type": "code",
   "execution_count": 4,
   "metadata": {},
   "outputs": [
    {
     "name": "stdout",
     "output_type": "stream",
     "text": [
      "Elapsed Time to read the file: 0 minutes 5.53 seconds\n"
     ]
    }
   ],
   "source": [
    "start_time = time.time()\n",
    "\n",
    "# Using the inbuilt pandas function to read a dataframe from a pkl file\n",
    "pokemon_df = pd.read_pickle(os.path.join('Data', 'pkl_data', 'pokemon100_1.pkl'))\n",
    "\n",
    "end_time = time.time()\n",
    "\n",
    "# Calculate the elapsed time\n",
    "elapsed_time_seconds = end_time - start_time\n",
    "\n",
    "elapsed_minutes = int(elapsed_time_seconds // 60)\n",
    "elapsed_seconds = elapsed_time_seconds % 60\n",
    "\n",
    "print(\"Elapsed Time to read the file:\", elapsed_minutes, \"minutes\", \"{:.2f}\".format(elapsed_seconds), \"seconds\")\n",
    "\n",
    "\n",
    "start_time = time.time()"
   ]
  },
  {
   "cell_type": "code",
   "execution_count": 5,
   "metadata": {},
   "outputs": [
    {
     "name": "stdout",
     "output_type": "stream",
     "text": [
      "149\n"
     ]
    }
   ],
   "source": [
    "print(len(os.listdir(os.path.join('Data', 'archive', 'dataset'))))"
   ]
  },
  {
   "cell_type": "markdown",
   "metadata": {},
   "source": [
    "There is 149 Pokemon in the dataset"
   ]
  },
  {
   "cell_type": "code",
   "execution_count": 6,
   "metadata": {},
   "outputs": [
    {
     "name": "stdout",
     "output_type": "stream",
     "text": [
      "150\n",
      "Index(['tensor', 'pokemon_Abra', 'pokemon_Aerodactyl', 'pokemon_Alakazam',\n",
      "       'pokemon_Arbok', 'pokemon_Arcanine', 'pokemon_Articuno',\n",
      "       'pokemon_Beedrill', 'pokemon_Bellsprout', 'pokemon_Blastoise',\n",
      "       ...\n",
      "       'pokemon_Vileplume', 'pokemon_Voltorb', 'pokemon_Vulpix',\n",
      "       'pokemon_Wartortle', 'pokemon_Weedle', 'pokemon_Weepinbell',\n",
      "       'pokemon_Weezing', 'pokemon_Wigglytuff', 'pokemon_Zapdos',\n",
      "       'pokemon_Zubat'],\n",
      "      dtype='object', length=150)\n"
     ]
    }
   ],
   "source": [
    "print(len(pokemon_df.columns))\n",
    "print(pokemon_df.columns)"
   ]
  },
  {
   "cell_type": "code",
   "execution_count": 7,
   "metadata": {},
   "outputs": [
    {
     "name": "stdout",
     "output_type": "stream",
     "text": [
      "                                              tensor  pokemon_Abra  \\\n",
      "0  [[[tensor(0.9804), tensor(0.9765), tensor(0.98...          True   \n",
      "1  [[[tensor(1.), tensor(1.), tensor(1.), tensor(...          True   \n",
      "\n",
      "   pokemon_Aerodactyl  pokemon_Alakazam  pokemon_Arbok  pokemon_Arcanine  \\\n",
      "0               False             False          False             False   \n",
      "1               False             False          False             False   \n",
      "\n",
      "   pokemon_Articuno  pokemon_Beedrill  pokemon_Bellsprout  pokemon_Blastoise  \\\n",
      "0             False             False               False              False   \n",
      "1             False             False               False              False   \n",
      "\n",
      "   ...  pokemon_Vileplume  pokemon_Voltorb  pokemon_Vulpix  pokemon_Wartortle  \\\n",
      "0  ...              False            False           False              False   \n",
      "1  ...              False            False           False              False   \n",
      "\n",
      "   pokemon_Weedle  pokemon_Weepinbell  pokemon_Weezing  pokemon_Wigglytuff  \\\n",
      "0           False               False            False               False   \n",
      "1           False               False            False               False   \n",
      "\n",
      "   pokemon_Zapdos  pokemon_Zubat  \n",
      "0           False          False  \n",
      "1           False          False  \n",
      "\n",
      "[2 rows x 150 columns]\n"
     ]
    }
   ],
   "source": [
    "print(pokemon_df.head(2))"
   ]
  },
  {
   "cell_type": "code",
   "execution_count": 8,
   "metadata": {},
   "outputs": [
    {
     "name": "stdout",
     "output_type": "stream",
     "text": [
      "<class 'pandas.core.frame.DataFrame'>\n",
      "RangeIndex: 10693 entries, 0 to 10692\n",
      "Columns: 150 entries, tensor to pokemon_Zubat\n",
      "dtypes: bool(149), object(1)\n",
      "memory usage: 1.6+ MB\n"
     ]
    }
   ],
   "source": [
    "pokemon_df.info()"
   ]
  },
  {
   "cell_type": "code",
   "execution_count": 9,
   "metadata": {},
   "outputs": [
    {
     "data": {
      "text/html": [
       "<div>\n",
       "<style scoped>\n",
       "    .dataframe tbody tr th:only-of-type {\n",
       "        vertical-align: middle;\n",
       "    }\n",
       "\n",
       "    .dataframe tbody tr th {\n",
       "        vertical-align: top;\n",
       "    }\n",
       "\n",
       "    .dataframe thead th {\n",
       "        text-align: right;\n",
       "    }\n",
       "</style>\n",
       "<table border=\"1\" class=\"dataframe\">\n",
       "  <thead>\n",
       "    <tr style=\"text-align: right;\">\n",
       "      <th></th>\n",
       "      <th>tensor</th>\n",
       "      <th>pokemon_Abra</th>\n",
       "      <th>pokemon_Aerodactyl</th>\n",
       "      <th>pokemon_Alakazam</th>\n",
       "      <th>pokemon_Arbok</th>\n",
       "      <th>pokemon_Arcanine</th>\n",
       "      <th>pokemon_Articuno</th>\n",
       "      <th>pokemon_Beedrill</th>\n",
       "      <th>pokemon_Bellsprout</th>\n",
       "      <th>pokemon_Blastoise</th>\n",
       "      <th>...</th>\n",
       "      <th>pokemon_Vileplume</th>\n",
       "      <th>pokemon_Voltorb</th>\n",
       "      <th>pokemon_Vulpix</th>\n",
       "      <th>pokemon_Wartortle</th>\n",
       "      <th>pokemon_Weedle</th>\n",
       "      <th>pokemon_Weepinbell</th>\n",
       "      <th>pokemon_Weezing</th>\n",
       "      <th>pokemon_Wigglytuff</th>\n",
       "      <th>pokemon_Zapdos</th>\n",
       "      <th>pokemon_Zubat</th>\n",
       "    </tr>\n",
       "  </thead>\n",
       "  <tbody>\n",
       "    <tr>\n",
       "      <th>count</th>\n",
       "      <td>10693</td>\n",
       "      <td>10693</td>\n",
       "      <td>10693</td>\n",
       "      <td>10693</td>\n",
       "      <td>10693</td>\n",
       "      <td>10693</td>\n",
       "      <td>10693</td>\n",
       "      <td>10693</td>\n",
       "      <td>10693</td>\n",
       "      <td>10693</td>\n",
       "      <td>...</td>\n",
       "      <td>10693</td>\n",
       "      <td>10693</td>\n",
       "      <td>10693</td>\n",
       "      <td>10693</td>\n",
       "      <td>10693</td>\n",
       "      <td>10693</td>\n",
       "      <td>10693</td>\n",
       "      <td>10693</td>\n",
       "      <td>10693</td>\n",
       "      <td>10693</td>\n",
       "    </tr>\n",
       "    <tr>\n",
       "      <th>unique</th>\n",
       "      <td>10693</td>\n",
       "      <td>2</td>\n",
       "      <td>2</td>\n",
       "      <td>2</td>\n",
       "      <td>2</td>\n",
       "      <td>2</td>\n",
       "      <td>2</td>\n",
       "      <td>2</td>\n",
       "      <td>2</td>\n",
       "      <td>2</td>\n",
       "      <td>...</td>\n",
       "      <td>2</td>\n",
       "      <td>2</td>\n",
       "      <td>2</td>\n",
       "      <td>2</td>\n",
       "      <td>2</td>\n",
       "      <td>2</td>\n",
       "      <td>2</td>\n",
       "      <td>2</td>\n",
       "      <td>2</td>\n",
       "      <td>2</td>\n",
       "    </tr>\n",
       "    <tr>\n",
       "      <th>top</th>\n",
       "      <td>[[[tensor(0.9804), tensor(0.9765), tensor(0.98...</td>\n",
       "      <td>False</td>\n",
       "      <td>False</td>\n",
       "      <td>False</td>\n",
       "      <td>False</td>\n",
       "      <td>False</td>\n",
       "      <td>False</td>\n",
       "      <td>False</td>\n",
       "      <td>False</td>\n",
       "      <td>False</td>\n",
       "      <td>...</td>\n",
       "      <td>False</td>\n",
       "      <td>False</td>\n",
       "      <td>False</td>\n",
       "      <td>False</td>\n",
       "      <td>False</td>\n",
       "      <td>False</td>\n",
       "      <td>False</td>\n",
       "      <td>False</td>\n",
       "      <td>False</td>\n",
       "      <td>False</td>\n",
       "    </tr>\n",
       "    <tr>\n",
       "      <th>freq</th>\n",
       "      <td>1</td>\n",
       "      <td>10651</td>\n",
       "      <td>10596</td>\n",
       "      <td>10644</td>\n",
       "      <td>10630</td>\n",
       "      <td>10632</td>\n",
       "      <td>10637</td>\n",
       "      <td>10640</td>\n",
       "      <td>10638</td>\n",
       "      <td>10631</td>\n",
       "      <td>...</td>\n",
       "      <td>10626</td>\n",
       "      <td>10628</td>\n",
       "      <td>10625</td>\n",
       "      <td>10632</td>\n",
       "      <td>10634</td>\n",
       "      <td>10642</td>\n",
       "      <td>10630</td>\n",
       "      <td>10626</td>\n",
       "      <td>10633</td>\n",
       "      <td>10644</td>\n",
       "    </tr>\n",
       "  </tbody>\n",
       "</table>\n",
       "<p>4 rows × 150 columns</p>\n",
       "</div>"
      ],
      "text/plain": [
       "                                                   tensor pokemon_Abra  \\\n",
       "count                                               10693        10693   \n",
       "unique                                              10693            2   \n",
       "top     [[[tensor(0.9804), tensor(0.9765), tensor(0.98...        False   \n",
       "freq                                                    1        10651   \n",
       "\n",
       "       pokemon_Aerodactyl pokemon_Alakazam pokemon_Arbok pokemon_Arcanine  \\\n",
       "count               10693            10693         10693            10693   \n",
       "unique                  2                2             2                2   \n",
       "top                 False            False         False            False   \n",
       "freq                10596            10644         10630            10632   \n",
       "\n",
       "       pokemon_Articuno pokemon_Beedrill pokemon_Bellsprout pokemon_Blastoise  \\\n",
       "count             10693            10693              10693             10693   \n",
       "unique                2                2                  2                 2   \n",
       "top               False            False              False             False   \n",
       "freq              10637            10640              10638             10631   \n",
       "\n",
       "        ... pokemon_Vileplume pokemon_Voltorb pokemon_Vulpix  \\\n",
       "count   ...             10693           10693          10693   \n",
       "unique  ...                 2               2              2   \n",
       "top     ...             False           False          False   \n",
       "freq    ...             10626           10628          10625   \n",
       "\n",
       "       pokemon_Wartortle pokemon_Weedle pokemon_Weepinbell pokemon_Weezing  \\\n",
       "count              10693          10693              10693           10693   \n",
       "unique                 2              2                  2               2   \n",
       "top                False          False              False           False   \n",
       "freq               10632          10634              10642           10630   \n",
       "\n",
       "       pokemon_Wigglytuff pokemon_Zapdos pokemon_Zubat  \n",
       "count               10693          10693         10693  \n",
       "unique                  2              2             2  \n",
       "top                 False          False         False  \n",
       "freq                10626          10633         10644  \n",
       "\n",
       "[4 rows x 150 columns]"
      ]
     },
     "execution_count": 9,
     "metadata": {},
     "output_type": "execute_result"
    }
   ],
   "source": [
    "pokemon_df.describe()"
   ]
  },
  {
   "cell_type": "code",
   "execution_count": 10,
   "metadata": {},
   "outputs": [
    {
     "name": "stdout",
     "output_type": "stream",
     "text": [
      "10693\n"
     ]
    }
   ],
   "source": [
    "print(len(pokemon_df))"
   ]
  },
  {
   "cell_type": "markdown",
   "metadata": {},
   "source": [
    "Split the Data"
   ]
  },
  {
   "cell_type": "code",
   "execution_count": 11,
   "metadata": {},
   "outputs": [],
   "source": [
    "# valid size is from 0-1 based on percentage\n",
    "# test_size is from 0-1 based on percentage\n",
    "# don't use function if both are 0\n",
    "def df_splitter(df, valid_size=0.1, test_size=0.1):\n",
    "    # Initialize empty lists to store the splits\n",
    "    train_data_list = []\n",
    "    val_data_list = []\n",
    "    test_data_list = []\n",
    "\n",
    "    # Iterate over each column\n",
    "    for column in df.columns:\n",
    "        # Filter out rows with NaN values in the current column\n",
    "        df_clean_column = df[df[column].notna()]\n",
    "\n",
    "        # Split the data in each column into train, validation, and test sets\n",
    "        train_data, temp_data = train_test_split(df_clean_column[column], test_size=valid_size + test_size, random_state=0)\n",
    "        val_data, test_data = train_test_split(temp_data, test_size=test_size/(valid_size + test_size), random_state=0)\n",
    "        \n",
    "        # Append the splits to the respective lists\n",
    "        train_data_list.append(train_data)\n",
    "        val_data_list.append(val_data)\n",
    "        test_data_list.append(test_data)\n",
    "    \n",
    "\n",
    "    # Concatenate the lists into dataframes\n",
    "    df_train = pd.concat(train_data_list, axis=1)\n",
    "    df_val = pd.concat(val_data_list, axis=1)\n",
    "    df_test = pd.concat(test_data_list, axis=1)\n",
    "\n",
    "    return df_train, df_val, df_test"
   ]
  },
  {
   "cell_type": "code",
   "execution_count": 12,
   "metadata": {},
   "outputs": [],
   "source": [
    "df_train, df_val, df_test = df_splitter(pokemon_df)"
   ]
  },
  {
   "cell_type": "code",
   "execution_count": 13,
   "metadata": {},
   "outputs": [
    {
     "name": "stdout",
     "output_type": "stream",
     "text": [
      "tensor([[[0.0078, 0.0000, 0.0000,  ..., 0.9765, 1.0000, 1.0000],\n",
      "         [0.0039, 0.0000, 0.0000,  ..., 0.9961, 0.9961, 1.0000],\n",
      "         [0.0039, 0.0039, 0.0039,  ..., 0.9961, 1.0000, 1.0000],\n",
      "         ...,\n",
      "         [0.1176, 0.1255, 0.2314,  ..., 0.9098, 0.9020, 0.8980],\n",
      "         [0.1059, 0.0941, 0.1608,  ..., 0.9098, 0.9020, 0.8941],\n",
      "         [0.1137, 0.0824, 0.1137,  ..., 0.9176, 0.8980, 0.8941]],\n",
      "\n",
      "        [[0.3529, 0.3843, 0.4039,  ..., 0.9529, 1.0000, 1.0000],\n",
      "         [0.3373, 0.3804, 0.4118,  ..., 0.9961, 1.0000, 1.0000],\n",
      "         [0.3294, 0.3765, 0.4196,  ..., 1.0000, 1.0000, 1.0000],\n",
      "         ...,\n",
      "         [0.5843, 0.6392, 0.7333,  ..., 0.3020, 0.2627, 0.2392],\n",
      "         [0.5882, 0.6000, 0.6627,  ..., 0.3333, 0.2667, 0.2353],\n",
      "         [0.5961, 0.5922, 0.6235,  ..., 0.3647, 0.2745, 0.2353]],\n",
      "\n",
      "        [[0.2510, 0.2588, 0.2745,  ..., 0.3725, 0.4510, 0.4706],\n",
      "         [0.2353, 0.2588, 0.2824,  ..., 0.4392, 0.4784, 0.4980],\n",
      "         [0.2275, 0.2588, 0.2902,  ..., 0.4784, 0.5137, 0.5294],\n",
      "         ...,\n",
      "         [0.4392, 0.4824, 0.5961,  ..., 0.0863, 0.0784, 0.0706],\n",
      "         [0.4471, 0.4510, 0.5216,  ..., 0.0784, 0.0706, 0.0588],\n",
      "         [0.4549, 0.4392, 0.4784,  ..., 0.0902, 0.0667, 0.0588]]])\n"
     ]
    }
   ],
   "source": [
    "print(df_test.iloc[0,0])"
   ]
  },
  {
   "cell_type": "code",
   "execution_count": 14,
   "metadata": {},
   "outputs": [],
   "source": [
    "# to_pil = transforms.ToPILImage()\n",
    "# pil_image = to_pil(df_test.iloc[0,0])\n",
    "# pil_image.show()"
   ]
  },
  {
   "cell_type": "markdown",
   "metadata": {},
   "source": [
    "**Convolutional Layer 1 (conv1):**\n",
    "\n",
    "- **in_channels:** 3 (RGB channels)\n",
    "- **out_channels:** 16 (number of filters)\n",
    "- **kernel_size:** 3x3\n",
    "- **stride:** 1\n",
    "- **padding:** 1 (to maintain the spatial dimensions)\n",
    "\n",
    "Output size:\n",
    "- **Height** = ((input_height + 2 * padding) - kernel_size) / stride + 1 = ((100 + 2 * 1) - 3) / 1 + 1 = 100\n",
    "- **Width** = ((input_width + 2 * padding) - kernel_size) / stride + 1 = ((100 + 2 * 1) - 3) / 1 + 1 = 100\n",
    "\n",
    "So, after conv1, the output feature map size is 16x100x100."
   ]
  },
  {
   "cell_type": "code",
   "execution_count": 15,
   "metadata": {},
   "outputs": [],
   "source": [
    "# class Net(nn.Module):\n",
    "#     def __init__(self):\n",
    "#         super().__init__()\n",
    "\n",
    "#         # Define the convolutional layers\n",
    "#         self.conv1 = nn.Conv2d(in_channels=3, out_channels=16, kernel_size=3, stride=1, padding=1)\n",
    "#         self.conv2 = nn.Conv2d(in_channels=16, out_channels=32, kernel_size=3, stride=1, padding=1)\n",
    "        \n",
    "#         # Define the max pooling layer\n",
    "#         self.pool = nn.MaxPool2d(kernel_size=2, stride=2, padding=0)\n",
    "        \n",
    "#         # Define the fully connected layers\n",
    "#         self.fc1 = nn.Linear(32 * 25 * 25, 128)  # 32 channels after max pooling, image size reduced to 25x25\n",
    "#         self.fc2 = nn.Linear(128, 149)  # Output layer with 149 classes\n",
    "\n",
    "#     def forward(self, x):\n",
    "#     # Forward pass through the network\n",
    "    \n",
    "#         # Convolutional layers with ReLU activation and max pooling\n",
    "#         x = F.relu(self.conv1(x))\n",
    "#         x = self.pool(x)\n",
    "#         x = F.relu(self.conv2(x))\n",
    "#         x = self.pool(x)\n",
    "        \n",
    "#         # Flatten the tensor for the fully connected layers\n",
    "#         x = x.view(-1, 32 * 25 * 25)\n",
    "        \n",
    "#         # Fully connected layers with ReLU activation\n",
    "#         x = F.relu(self.fc1(x))\n",
    "#         x = self.fc2(x)\n",
    "        \n",
    "#         return x\n",
    "\n",
    "# device = torch.device(\"cuda\") if torch.cuda.is_available() else torch.device(\"mps\") if torch.backends.mps.is_available() else torch.device(\"cpu\")\n",
    "# net = Net().to(device)"
   ]
  },
  {
   "cell_type": "code",
   "execution_count": 16,
   "metadata": {},
   "outputs": [
    {
     "name": "stdout",
     "output_type": "stream",
     "text": [
      "149\n",
      "<class 'torch.Tensor'>\n",
      "tensor([-0.0489,  0.0737, -0.0381,  0.0245, -0.0230, -0.0941, -0.0380,  0.0136,\n",
      "         0.0014,  0.0768,  0.0499, -0.0476,  0.0601,  0.0536,  0.0416,  0.0599,\n",
      "        -0.0119,  0.0310, -0.0888, -0.0268,  0.0384,  0.0544,  0.0096,  0.0418,\n",
      "         0.0237,  0.0139,  0.0649,  0.0325,  0.0083, -0.0794,  0.0334, -0.0075,\n",
      "        -0.0045,  0.0343, -0.0671,  0.0508,  0.0472, -0.0314,  0.0604, -0.0004,\n",
      "         0.0356,  0.0453, -0.0241, -0.0124, -0.0103, -0.0874, -0.0036,  0.0069,\n",
      "         0.0485,  0.0150, -0.0828, -0.0055, -0.0153, -0.0454, -0.0438, -0.0569,\n",
      "        -0.0412,  0.0288,  0.0688, -0.0591,  0.0434,  0.0530,  0.0407,  0.0062,\n",
      "         0.0145, -0.0332, -0.0384, -0.0157, -0.0544, -0.0499,  0.0846, -0.0511,\n",
      "         0.0558, -0.0937, -0.0701, -0.0221, -0.0715, -0.0787,  0.0512,  0.0138,\n",
      "         0.0395,  0.0422,  0.0116,  0.0891,  0.0503,  0.0256,  0.0185, -0.0422,\n",
      "         0.0809, -0.0132, -0.0804, -0.0414, -0.1251,  0.0359,  0.0270, -0.0258,\n",
      "         0.0398,  0.0520,  0.0437,  0.0550, -0.0528, -0.0828, -0.0158, -0.0233,\n",
      "         0.0167, -0.0461,  0.0819,  0.0462,  0.0183, -0.0677,  0.0002,  0.0614,\n",
      "        -0.0405,  0.0268,  0.0127,  0.0731,  0.0585,  0.0583,  0.1135,  0.0531,\n",
      "        -0.0592, -0.0178,  0.0512,  0.0699, -0.0807,  0.0035,  0.0269, -0.0676,\n",
      "         0.0466, -0.0668,  0.0050,  0.1307,  0.0409, -0.0327,  0.0302, -0.0273,\n",
      "        -0.0650, -0.0418,  0.1173, -0.0384, -0.0210, -0.0100, -0.0079,  0.0423,\n",
      "        -0.0274, -0.0009, -0.0827, -0.0160, -0.0549], grad_fn=<ViewBackward0>)\n",
      "tensor(131)\n"
     ]
    }
   ],
   "source": [
    "output = net(pokemon_df['tensor'][0])\n",
    "print(len(output.flatten()))\n",
    "print(type(output.flatten()))\n",
    "print(output.flatten())\n",
    "print(torch.argmax(output.flatten()))"
   ]
  },
  {
   "cell_type": "code",
   "execution_count": 18,
   "metadata": {},
   "outputs": [
    {
     "name": "stdout",
     "output_type": "stream",
     "text": [
      "dog\n",
      "CrossEntropyLoss()\n"
     ]
    },
    {
     "name": "stderr",
     "output_type": "stream",
     "text": [
      "c:\\Users\\dylan\\.pyenv\\pyenv-win\\versions\\3.11.7\\Lib\\site-packages\\torch\\nn\\_reduction.py:42: UserWarning: size_average and reduce args will be deprecated, please use reduction='sum' instead.\n",
      "  warnings.warn(warning.format(ret))\n"
     ]
    }
   ],
   "source": [
    "loss = nn.CrossEntropyLoss\n",
    "a = torch.tensor([2.5, -4, 0.1])\n",
    "b = torch.tensor([1,0,0])\n",
    "loss_val = loss(a.unsqueeze(0), torch.argmax(b))\n",
    "print('dog')\n",
    "print(loss_val)"
   ]
  },
  {
   "cell_type": "code",
   "execution_count": 20,
   "metadata": {},
   "outputs": [
    {
     "name": "stdout",
     "output_type": "stream",
     "text": [
      "dog\n",
      "tensor(0.0882)\n"
     ]
    }
   ],
   "source": [
    "loss = F.cross_entropy\n",
    "a = torch.tensor([2.5, -4, 0.1])\n",
    "b = torch.tensor([1,0,0])\n",
    "loss_val = loss(a, torch.argmax(b))\n",
    "print('dog')\n",
    "print(loss_val)"
   ]
  },
  {
   "cell_type": "code",
   "execution_count": 72,
   "metadata": {},
   "outputs": [],
   "source": [
    "class CustomDataset(Dataset):\n",
    "    def __init__(self, dataframe):\n",
    "        self.pokemon_df = dataframe\n",
    "\n",
    "    def __len__(self):\n",
    "        return len(self.pokemon_df)\n",
    "    \n",
    "    def __getitem__(self, idx):\n",
    "\n",
    "        # Extract Labels from DF\n",
    "        # pokemon_labels = [label for label in self.pokemon_df.columns if label.startswith('pokemon_')]\n",
    "        # pokemon_labels = ['pokemon_Charmander', 'pokemon_Squirtle', 'pokemon_Bulbasaur', 'pokemon_Pikachu']\n",
    "\n",
    "        pokemon_labels = []\n",
    "        counter = 0\n",
    "        for label in self.pokemon_df.columns:\n",
    "            if counter >= 10:\n",
    "                break\n",
    "            if label.startswith('pokemon_'):\n",
    "                pokemon_labels.append(label)\n",
    "                counter += 1\n",
    "\n",
    "        data = self.pokemon_df.loc[idx]['tensor']\n",
    "        target = self.pokemon_df.iloc[idx]\n",
    "        target = [target[col] for col in pokemon_labels]\n",
    "        target = [int(x) for x in target]\n",
    "        target = torch.tensor(target)\n",
    "        return data, target\n",
    "\n",
    "# Assuming pokemon_df is your DataFrame\n",
    "dataset = CustomDataset(pokemon_df)"
   ]
  },
  {
   "cell_type": "code",
   "execution_count": 73,
   "metadata": {},
   "outputs": [],
   "source": [
    "def dataset_splitter(dataset, valid_size=0.1, test_size=0.1, batch_size=10):\n",
    "    dataset_size = len(dataset)\n",
    "    valid_int = int(valid_size * dataset_size)\n",
    "    test_int = int(test_size * dataset_size)\n",
    "    train_int = dataset_size - valid_int - test_int\n",
    "\n",
    "    # Splitting the dataset into train and test sets\n",
    "    train_set, test_and_valid_set = random_split(dataset, [train_int, test_int + valid_int])\n",
    "    valid_set, test_set = random_split(test_and_valid_set, [valid_int, test_int])\n",
    "\n",
    "    return train_set, valid_set, test_set"
   ]
  },
  {
   "cell_type": "code",
   "execution_count": 74,
   "metadata": {},
   "outputs": [],
   "source": [
    "batch_size = 20\n",
    "\n",
    "train_set, valid_set, test_set = dataset_splitter(dataset)\n",
    "\n",
    "# Creating DataLoader for train and test sets\n",
    "train_loader = DataLoader(train_set, batch_size=batch_size, shuffle=True)\n",
    "valid_loader = DataLoader(valid_set, batch_size=batch_size, shuffle=True)\n",
    "test_loader = DataLoader(test_set, batch_size=batch_size, shuffle=False)"
   ]
  },
  {
   "cell_type": "code",
   "execution_count": 75,
   "metadata": {},
   "outputs": [],
   "source": [
    "class Net(nn.Module):\n",
    "    def __init__(self):\n",
    "        super().__init__()\n",
    "\n",
    "        # Define the convolutional layers\n",
    "        self.conv1 = nn.Conv2d(in_channels=3, out_channels=16, kernel_size=3, stride=1, padding=1)\n",
    "        self.conv2 = nn.Conv2d(in_channels=16, out_channels=32, kernel_size=3, stride=1, padding=1)\n",
    "        \n",
    "        # Define the max pooling layer\n",
    "        self.pool = nn.MaxPool2d(kernel_size=2, stride=2, padding=0)\n",
    "        \n",
    "        # Define the fully connected layers\n",
    "        self.fc1 = nn.Linear(32 * 25 * 25, 128)  # 32 channels after max pooling, image size reduced to 25x25\n",
    "        self.fc2 = nn.Linear(128, 10)  # Output layer with 149 classes\n",
    "\n",
    "        # self.fc1 = nn.Linear(3 * 100 * 100, 200)  # input is a 3 channel 10 * 10 image\n",
    "        # self.fc2 = nn.Linear(200, 149)  # Output layer with 149 classes\n",
    "\n",
    "    def forward(self, x):\n",
    "    # Forward pass through the network\n",
    "    \n",
    "        # Convolutional layers with ReLU activation and max pooling\n",
    "        x = F.relu(self.conv1(x))\n",
    "        x = self.pool(x)\n",
    "        x = F.relu(self.conv2(x))\n",
    "        x = self.pool(x)\n",
    "        \n",
    "        # Flatten the tensor for the fully connected layers\n",
    "        x = x.view(-1, 32 * 25 * 25)\n",
    "        \n",
    "        # Fully connected layers with ReLU activation\n",
    "        x = F.relu(self.fc1(x))\n",
    "        x = F.relu(self.fc2(x))\n",
    "\n",
    "        # x = self.fc1(x)\n",
    "        # x = self.fc2(x)\n",
    "        return x\n",
    "\n",
    "device = torch.device(\"cuda\") if torch.cuda.is_available() else torch.device(\"mps\") if torch.backends.mps.is_available() else torch.device(\"cpu\")\n",
    "net = Net().to(device)"
   ]
  },
  {
   "cell_type": "code",
   "execution_count": 76,
   "metadata": {},
   "outputs": [
    {
     "name": "stdout",
     "output_type": "stream",
     "text": [
      "Epoch: 0\n",
      "Loss on test set: 10.802704811096191\n",
      "Accuracy on test set: 0.0\n",
      "Epoch: 0\n",
      "Loss on test set: 0.5405687093734741\n",
      "Accuracy on test set: 0.9\n",
      "Epoch: 0\n",
      "Loss on test set: 0.6374133229255676\n",
      "Accuracy on test set: 0.9\n",
      "Epoch: 0\n",
      "Loss on test set: 0.5528134703636169\n",
      "Accuracy on test set: 0.9\n",
      "Epoch: 0\n",
      "Loss on test set: 0.08491920679807663\n",
      "Accuracy on test set: 1.0\n",
      "Epoch: 0\n",
      "Loss on test set: 0.5398890376091003\n",
      "Accuracy on test set: 0.9\n",
      "Epoch: 0\n",
      "Loss on test set: 0.3648725152015686\n",
      "Accuracy on test set: 0.95\n",
      "Epoch: 0\n",
      "Loss on test set: 0.3108920454978943\n",
      "Accuracy on test set: 0.95\n",
      "Epoch: 0\n",
      "Loss on test set: 0.6139420866966248\n",
      "Accuracy on test set: 0.9\n",
      "Epoch: 1\n",
      "Loss on test set: 0.5466980934143066\n",
      "Accuracy on test set: 0.9\n",
      "Epoch: 1\n",
      "Loss on test set: 0.7816928625106812\n",
      "Accuracy on test set: 0.85\n",
      "Epoch: 1\n",
      "Loss on test set: 0.3191590905189514\n",
      "Accuracy on test set: 0.95\n",
      "Epoch: 1\n",
      "Loss on test set: 0.5539273619651794\n",
      "Accuracy on test set: 0.9\n",
      "Epoch: 1\n",
      "Loss on test set: 0.0625649243593216\n",
      "Accuracy on test set: 1.0\n",
      "Epoch: 1\n",
      "Loss on test set: 0.5915628671646118\n",
      "Accuracy on test set: 0.9\n",
      "Epoch: 1\n",
      "Loss on test set: 0.030499577522277832\n",
      "Accuracy on test set: 1.0\n",
      "Epoch: 1\n",
      "Loss on test set: 0.5804678797721863\n",
      "Accuracy on test set: 0.9\n",
      "Epoch: 1\n",
      "Loss on test set: 0.33293280005455017\n",
      "Accuracy on test set: 0.95\n",
      "Epoch: 2\n",
      "Loss on test set: 0.5901196002960205\n",
      "Accuracy on test set: 0.9\n",
      "Epoch: 2\n",
      "Loss on test set: 0.3692905306816101\n",
      "Accuracy on test set: 0.95\n",
      "Epoch: 2\n",
      "Loss on test set: 0.5551198720932007\n",
      "Accuracy on test set: 0.9\n",
      "Epoch: 2\n",
      "Loss on test set: 0.054056793451309204\n",
      "Accuracy on test set: 1.0\n",
      "Epoch: 2\n",
      "Loss on test set: 0.5491788387298584\n",
      "Accuracy on test set: 0.9\n",
      "Epoch: 2\n",
      "Loss on test set: 0.3130592703819275\n",
      "Accuracy on test set: 0.95\n",
      "Epoch: 2\n",
      "Loss on test set: 0.06649985164403915\n",
      "Accuracy on test set: 1.0\n",
      "Epoch: 2\n",
      "Loss on test set: 0.8112571835517883\n",
      "Accuracy on test set: 0.9\n"
     ]
    }
   ],
   "source": [
    "num_epochs = 3\n",
    "loss_hist = []\n",
    "valid_loss_hist = []\n",
    "valid_acc_hist = []\n",
    "counter = 0\n",
    "learning_rate = 0.01\n",
    "\n",
    "optimizer = torch.optim.Adam(net.parameters(), lr=learning_rate)\n",
    "loss = F.cross_entropy\n",
    "\n",
    "stop = False\n",
    "\n",
    "# Outer training loop\n",
    "for epoch in range(num_epochs):\n",
    "    iter_counter = 0\n",
    "    train_batch = iter(train_loader)\n",
    "\n",
    "    # Minibatch training loop\n",
    "    for data, targets in train_batch:\n",
    "        data = data.to(device)\n",
    "        targets = targets.to(device)\n",
    "\n",
    "        # print(data[0][0])\n",
    "        # print(data[1][0])\n",
    "        # print(data[2][0])\n",
    "        # print(data.shape)\n",
    "\n",
    "        # change to train mode\n",
    "        net.train()\n",
    "\n",
    "        # zero the parameter gradients\n",
    "        optimizer.zero_grad()\n",
    "\n",
    "        # if data.view(train_loader.batch_size, -1).size() != (20, 30000):\n",
    "        #     print(data.view(train_loader.batch_size, -1).shape)\n",
    "        #     print(data.shape)\n",
    "        #     print(data)\n",
    "        #     stop = True\n",
    "        #     break\n",
    "\n",
    "        # forward pass\n",
    "        output = net(data)  # net(data.view(20, -1))\n",
    "        \n",
    "        # print(output[0])\n",
    "        # print(output[1])\n",
    "        # print(output[2])\n",
    "        # print(output.shape)\n",
    "        # break\n",
    "\n",
    "        # initialize the loss & sum over time\n",
    "        loss_val = loss(output, torch.argmax(targets, dim=1))\n",
    "        \n",
    "        # Gradient calculation + weight update\n",
    "        loss_val.backward()\n",
    "        optimizer.step()\n",
    "\n",
    "        # Store loss history for future plotting\n",
    "        loss_hist.append(loss_val.item())\n",
    "\n",
    "        # Validaion set\n",
    "        with torch.no_grad():\n",
    "            net.eval()\n",
    "            valid_data, valid_targets = next(iter(valid_loader))\n",
    "            valid_data = valid_data.to(device)\n",
    "            valid_targets = valid_targets.to(device)\n",
    "\n",
    "            # valid set forward pass\n",
    "            output = net(valid_data)\n",
    "\n",
    "            # valid set loss\n",
    "            valid_loss = loss(output, torch.argmax(valid_targets, dim=1))\n",
    "            valid_loss_hist.append(valid_loss.item())\n",
    "\n",
    "            # Validation accuracy calculation\n",
    "            _, predicted = torch.max(output, 1)\n",
    "            # print(predicted)\n",
    "            _, valid_labels = torch.max(valid_targets, 1)\n",
    "            correct = (predicted == valid_labels).sum().item()\n",
    "            total = valid_targets.size(0)\n",
    "            valid_accuracy = correct / total\n",
    "            valid_acc_hist.append(valid_accuracy)\n",
    "                                  \n",
    "            # Print train/valid loss/accuracy \n",
    "            if counter % 50 == 0:\n",
    "                print(f\"Epoch: {epoch}\")\n",
    "                print(f\"Loss on test set: {valid_loss.item()}\")\n",
    "                print(f\"Accuracy on test set: {valid_accuracy}\")\n",
    "            counter += 1\n",
    "    \n",
    "    if stop:\n",
    "        break"
   ]
  },
  {
   "cell_type": "code",
   "execution_count": 77,
   "metadata": {},
   "outputs": [
    {
     "name": "stdout",
     "output_type": "stream",
     "text": [
      "20\n",
      "data.shape: torch.Size([20, 3, 100, 100])\n",
      "torch.Size([20, 10])\n",
      "tensor([3.4836, 0.0000, 0.0000, 0.0000, 0.0000, 0.0000, 0.0000, 0.0000, 0.0000,\n",
      "        0.0000], grad_fn=<SelectBackward0>)\n",
      "tensor([4.7883, 0.0000, 0.0000, 0.0000, 0.0000, 0.0000, 0.0000, 0.0000, 0.0000,\n",
      "        0.0000], grad_fn=<SelectBackward0>)\n",
      "tensor([0, 0, 0, 0, 0, 0, 0, 0, 0, 0, 0, 0, 0, 0, 0, 0, 0, 0, 0, 0])\n",
      "tensor([0, 0, 0, 0, 0, 0, 0, 0, 0, 0, 0, 0, 0, 0, 0, 0, 0, 0, 0, 0])\n"
     ]
    }
   ],
   "source": [
    "net.eval()\n",
    "batch_size = train_loader.batch_size\n",
    "print(batch_size)\n",
    "data, targets = next(iter(train_loader))\n",
    "print('data.shape:', data.shape)\n",
    "output = net(data)  # net(data.view(batch_size, -1))\n",
    "print(output.shape)\n",
    "print(output[1])\n",
    "print(output[4])\n",
    "print(torch.argmax(targets, dim=1))\n",
    "print(torch.argmax(targets, dim=1))"
   ]
  },
  {
   "cell_type": "code",
   "execution_count": 61,
   "metadata": {},
   "outputs": [
    {
     "data": {
      "image/png": "[encoded data removed]",
      "text/plain": [
       "<Figure size 1000x500 with 1 Axes>"
      ]
     },
     "metadata": {},
     "output_type": "display_data"
    }
   ],
   "source": [
    "import matplotlib.pyplot as plt\n",
    "# Plot Loss\n",
    "fig = plt.figure(facecolor=\"w\", figsize=(10, 5))\n",
    "plt.plot(loss_hist)\n",
    "plt.plot(valid_loss_hist)\n",
    "plt.title(\"Loss Curves\")\n",
    "plt.legend([\"Train Loss\", \"Test Loss\"])\n",
    "plt.xlabel(\"Iteration\")\n",
    "plt.ylabel(\"Loss\")\n",
    "plt.show()"
   ]
  },
  {
   "cell_type": "code",
   "execution_count": null,
   "metadata": {},
   "outputs": [],
   "source": []
  }
 ],
 "metadata": {
  "kernelspec": {
   "display_name": "Python 3 (ipykernel)",
   "language": "python",
   "name": "python3"
  },
  "language_info": {
   "codemirror_mode": {
    "name": "ipython",
    "version": 3
   },
   "file_extension": ".py",
   "mimetype": "text/x-python",
   "name": "python",
   "nbconvert_exporter": "python",
   "pygments_lexer": "ipython3",
   "version": "3.11.7"
  }
 },
 "nbformat": 4,
 "nbformat_minor": 2
}
